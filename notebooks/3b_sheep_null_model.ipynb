{
 "cells": [
  {
   "cell_type": "code",
   "execution_count": null,
   "id": "initial_id",
   "metadata": {
    "ExecuteTime": {
     "end_time": "2025-05-07T10:31:14.717686Z",
     "start_time": "2025-05-07T10:31:14.651074Z"
    },
    "collapsed": true
   },
   "outputs": [],
   "source": [
    "%load_ext autoreload\n",
    "%autoreload 2\n",
    "\n",
    "\n",
    "import sys\n",
    "import os\n",
    "\n",
    "# Go one level up from 'notebooks' to the project root, then into 'src'\n",
    "sys.path.append(os.path.abspath('../src'))\n",
    "\n",
    "import meneame as mn\n",
    "import s3_create_attitudes as s3\n",
    "\n",
    "import s4_figures_paper as s4\n",
    "\n",
    "import pandas as pd\n",
    "\n",
    "import networkx as nx\n",
    "import numpy as np\n",
    "import pylab as plt\n",
    "import seaborn as sns\n",
    "\n",
    "\n",
    "from sklearn.preprocessing import StandardScaler\n",
    "import textalloc as ta\n",
    "\n",
    "# Disable SettingWithCopyWarning\n",
    "pd.options.mode.chained_assignment = None"
   ]
  },
  {
   "cell_type": "code",
   "execution_count": null,
   "metadata": {},
   "outputs": [],
   "source": [
    "# Set up paths and topics to study\n",
    "# Read folder paths from the file\n",
    "with open('../dirs.txt', 'r') as f:\n",
    "    lines = [line.strip() for line in f]\n",
    "\n",
    "path = lines[0]\n",
    "\n",
    "# Define the data path\n",
    "path_data = path + 'data_snapshot/'\n",
    "path_save_embeddings = \"../data/embeddings/\"\n",
    "path_figures = lines[1]\n",
    "\n",
    "\n",
    "topics = [\"Politics\", \"Russia\",  \"Public services\", \"Crime\", \"Crypto/net\", \"Inflation\"]"
   ]
  },
  {
   "cell_type": "code",
   "execution_count": null,
   "id": "b368812ac87b5a93",
   "metadata": {
    "ExecuteTime": {
     "end_time": "2025-05-07T10:31:29.953768Z",
     "start_time": "2025-05-07T10:31:15.154606Z"
    }
   },
   "outputs": [],
   "source": [
    "## Read idelogoy from pollitical watch\n",
    "df = pd.read_csv(\"../ideology_twitter/media_ideology_politicalwatch/media_general_topics/Filtered_Sources.csv\")\n",
    "df = df[[\"domain\", \"bias\"]]\n",
    "df[\"domain\"] = df[\"domain\"].str.split(\".\").str[1]\n",
    "ideology_media_watch = df.set_index(\"domain\").to_dict()[\"bias\"]\n",
    "\n",
    "## Read users-story data\n",
    "data_st = mn.read_comments_topics(path_data, bipartite=True)#, min_time=\"2022-12-01\", max_time=\"2023-08-01\")\n",
    "data_st = data_st.loc[(data_st[\"story_vote_time\"] >= \"2022-12-01\") &\n",
    "                      (data_st[\"story_vote_time\"] <= \"2023-08-01\")]\n",
    "\n",
    "print(data_st.agg({\"story_id\": [\"count\", \"nunique\"], \"username_vote\": \"nunique\"}))\n",
    "\n",
    "# # Read user-user data, merged with topics\n",
    "data_com = mn.read_comments_topics(path_data)\n",
    "#data_com = data_com.loc[data_com[\"story_id\"].isin(set(data_st[\"story_id\"]))]\n",
    "data_com = data_com.loc[(data_com[\"comment_vote_time\"] >= \"2022-12-01\") &\n",
    "                      (data_com[\"comment_vote_time\"] <= \"2023-08-01\")]\n",
    "\n",
    "## Descriptive statistis of the user-story data\n",
    "data_stats = (data_st\n",
    "           .groupby(\"final_topic\")\n",
    "           .agg({\"story_id\": [\"nunique\", \"count\"],\n",
    "                 \"story_vote\": [lambda x: np.sum(x > 0), lambda x: np.sum(x < 0)]})\n",
    "           .sort_values(by=(\"story_id\", \"nunique\"), ascending=False)\n",
    "           .reset_index()\n",
    ")\n",
    "data_stats.columns = [\"Topic\", \"Number stories\", \"Number votes:\", \"Number upvotes\", \"Number downvotes\"]\n",
    "\n",
    "data_stats = data_stats.applymap(\n",
    "    lambda x: f\"{x:,.0f}\" if isinstance(x, (int, float)) else x\n",
    ")\n",
    "\n",
    "# Save to latex, add comma to numbers and a descriptive captions\n",
    "print(data_stats.to_latex(index=False, caption=\"Statistics of the stories in the dataset\", label=\"tab:data_stats\",\n",
    "                    column_format=\"lcccc\")\n",
    ")\n",
    "\n",
    "# Keep domains to filter later on\n",
    "domains = set(data_st[\"story_original_url_domain\"].unique())\n",
    "domains_users = set(data_com[\"username_post\"].unique()) | set(data_com[\"username_vote\"].unique())\n",
    "\n",
    "# Create a dictionary to color the nodes according to the average vote\n",
    "# +1 = always postiive, -1 = always negative. For comments cutoff at 0 since there are few negative votes\n",
    "nodes_st_color = data_st.groupby(\"username_vote\")[\"story_vote\"].mean()\n",
    "\n",
    "nodes_com_color = data_com.groupby(\"username_vote\")[\"comment_vote\"].mean()\n",
    "nodes_com_color[nodes_com_color<0] = 0\n",
    "nodes_color = nodes_com_color.to_dict()"
   ]
  },
  {
   "cell_type": "code",
   "execution_count": null,
   "id": "56b1d80fb38efe4c",
   "metadata": {
    "ExecuteTime": {
     "end_time": "2025-05-07T10:31:41.182303Z",
     "start_time": "2025-05-07T10:31:29.961578Z"
    }
   },
   "outputs": [],
   "source": [
    "data = mn.read_comments_topics(path_data)\n",
    "data = data.loc[(data[\"comment_vote_time\"] >= \"2022-12-01\") &\n",
    "                (data[\"comment_vote_time\"] <= \"2023-08-01\")]\n",
    "\n",
    "# Agreement\n",
    "data[\"positive\"] = data.groupby(\"story_id\")[\"comment_vote\"].transform(\n",
    "    np.mean\n",
    ")\n",
    "\n",
    "# Keep domains to filter later on\n",
    "domains_users = set(data[\"username_post\"].unique()) | set(data[\"username_vote\"].unique())\n",
    "\n",
    "sns.histplot(data[\"positive\"], bins=200)\n",
    "\n",
    "# Only publised\n",
    "data[\"topic\"] = data[\"final_topic\"]  # .map(mn.topic_names) # Add name of each topic\n",
    "data = data.loc[data[\"final_topic\"].isin(set(topics))]\n",
    "\n",
    "print(data[\"final_topic\"].value_counts())"
   ]
  },
  {
   "cell_type": "code",
   "execution_count": null,
   "id": "3a59f0f7150977a1",
   "metadata": {
    "ExecuteTime": {
     "end_time": "2025-05-07T10:32:00.786569Z",
     "start_time": "2025-05-07T10:31:41.253599Z"
    }
   },
   "outputs": [],
   "source": [
    "# Create SHEEP embeddings\n",
    "df_all_embeddings_sheep = mn.create_embeddings_third(\n",
    "        data,\n",
    "        method=\"sheep\",\n",
    "        bipartite=False,\n",
    "        min_votes_from_user=10,\n",
    "        min_votes_to_users_or_domains=0,\n",
    "        min_comments_or_stories=10,\n",
    "        plot_sheep=False,\n",
    "        normalize_laplacian=True,\n",
    "        adjust_weight=False,\n",
    "    )\n",
    "\n",
    "df_all_embeddings_sheep = df_all_embeddings_sheep.reset_index().rename(columns={\"user\": \"story\"})\n",
    "\n",
    "\n",
    "df_all_embeddings_sheep_adj = mn.create_embeddings_third(\n",
    "        data,\n",
    "        method=\"sheep-adj\",\n",
    "        bipartite=False,\n",
    "        min_votes_from_user=10,\n",
    "        min_votes_to_users_or_domains=0,\n",
    "        min_comments_or_stories=10,\n",
    "        plot_sheep=False,\n",
    "        normalize_laplacian=True,\n",
    "        adjust_weight=False,\n",
    "        adj_weight = -50\n",
    "    )\n",
    "\n",
    "df_all_embeddings_sheep_adj = df_all_embeddings_sheep_adj.reset_index().rename(columns={\"user\": \"story\"})\n",
    "\n",
    "df_all_embeddings_ca = mn.create_embeddings_third(\n",
    "        data,\n",
    "        method=\"ca\",\n",
    "        bipartite=False,\n",
    "        min_votes_from_user=10,\n",
    "        min_votes_to_users_or_domains=0,\n",
    "        min_comments_or_stories=10,\n",
    "    )\n",
    "\n",
    "df_all_embeddings_ca  = df_all_embeddings_ca.reset_index().rename(columns={\"user\": \"story\"})\n",
    "\n",
    "df_all_embeddings_sheep_m, outliers_sheep = s3.add_values(df_all_embeddings_sheep)\n",
    "\n",
    "df_all_embeddings_sheep_adj_m, outliers_sheep_adj = s3.add_values(df_all_embeddings_sheep_adj)\n",
    "\n",
    "df_all_embeddings_ca_m, outliers_ca = s3.add_values(df_all_embeddings_ca)\n",
    "\n",
    "df_pca_emb_sheep = mn.create_pca_emb(\n",
    "    df_all_embeddings_sheep_m,\n",
    "    topics=topics, domains=domains_users, normalize=True, emb=\"sheep\"\n",
    ")\n",
    "\n",
    "df_pca_emb_sheep_adj = mn.create_pca_emb(\n",
    "    df_all_embeddings_sheep_adj_m,\n",
    "    topics=topics, domains=domains_users, normalize=True, emb=\"sheep\"\n",
    ")"
   ]
  },
  {
   "cell_type": "code",
   "execution_count": null,
   "id": "8374849f36483a58",
   "metadata": {
    "ExecuteTime": {
     "end_time": "2025-05-07T10:32:00.849672Z",
     "start_time": "2025-05-07T10:32:00.792295Z"
    }
   },
   "outputs": [],
   "source": [
    "#plt.figure(figsize=(4,12))\n",
    "d_color = pd.Series(0.5, index=df_all_embeddings_ca.index)\n",
    "\n",
    "sc = StandardScaler()\n",
    "df_all_embeddings_ca_m[df_all_embeddings_ca_m.columns[1:]] = sc.fit_transform(df_all_embeddings_ca_m[df_all_embeddings_ca_m.columns[1:]])\n",
    "\n",
    "df_pca_emb_sheep[df_pca_emb_sheep.columns[1:]] = sc.fit_transform(df_pca_emb_sheep[df_pca_emb_sheep.columns[1:]])\n",
    "\n",
    "df_pca_emb_sheep_adj[df_pca_emb_sheep_adj.columns[1:]] = sc.fit_transform(df_pca_emb_sheep_adj[df_pca_emb_sheep_adj.columns[1:]])"
   ]
  },
  {
   "cell_type": "code",
   "execution_count": null,
   "id": "c460e04a4ad6e3a9",
   "metadata": {
    "ExecuteTime": {
     "end_time": "2025-05-07T10:32:52.607287Z",
     "start_time": "2025-05-07T10:32:00.888477Z"
    }
   },
   "outputs": [],
   "source": [
    "plt.figure(figsize=(18, 4))  # Wider figure for 3 plots\n",
    "plt.subplot(1, 3, 1)\n",
    "s4.plot_two_dim(df_all_embeddings_ca, df_pca_emb_sheep,  flip=None, domains=domains_users,\n",
    "             top=\"Russia\", suffix1=\"_0\", suffix2=\"_pca_1d\",\n",
    "             columns=[\"Attitude towards Russia (CA)\", \"Attitude towards Russia(SHEEP)\"],\n",
    "            annotate=False, show_regression=\"lowess\", s=5, alpha=0.5,\n",
    "             cmap=plt.cm.RdBu, d_color=nodes_com_color)\n",
    "\n",
    "plt.title(\"(A) SHEEP vs CA\")\n",
    "\n",
    "plt.subplot(1, 3, 2)\n",
    "s4.plot_two_dim(df_all_embeddings_ca, df_pca_emb_sheep_adj,  flip=None, domains=domains_users,\n",
    "             top=\"Russia\", suffix1=\"_0\", suffix2=\"_pca_1d\",\n",
    "             columns=[\"Attitude towards Russia (CA)\", \"Attitude towards Russia (SHEEP Null Model)\"],\n",
    "            annotate=False, show_regression=\"lowess\", s=5, alpha=0.5,\n",
    "             cmap=plt.cm.RdBu, d_color=nodes_com_color)\n",
    "\n",
    "plt.title(\"(B) SHEEP Null Model vs CA\")\n",
    "\n",
    "plt.subplot(1, 3, 3)\n",
    "s4.plot_two_dim(df_pca_emb_sheep, df_pca_emb_sheep_adj,  flip=None, domains=domains_users,\n",
    "             top=\"Russia\", suffix1=\"_pca_1d\", suffix2=\"_pca_1d\",\n",
    "             columns=[\"Attitude towards Russia (SHEEP)\", \"Attitude towards Russia (SHEEP Null Model)\"],\n",
    "            annotate=False, show_regression=\"lowess\", s=5, alpha=0.5,\n",
    "             cmap=plt.cm.RdBu, d_color=nodes_com_color)\n",
    "plt.title(\"(C) SHEEP Null Model vs SHEEP\")\n",
    "\n",
    "plt.savefig(\"../figures/sheep-null-model-russia.pdf\", bbox_inches=\"tight\")\n"
   ]
  },
  {
   "cell_type": "code",
   "execution_count": null,
   "id": "6f72792bf9da6e08",
   "metadata": {},
   "outputs": [],
   "source": []
  }
 ],
 "metadata": {
  "kernelspec": {
   "display_name": "polarization",
   "language": "python",
   "name": "python3"
  },
  "language_info": {
   "codemirror_mode": {
    "name": "ipython",
    "version": 3
   },
   "file_extension": ".py",
   "mimetype": "text/x-python",
   "name": "python",
   "nbconvert_exporter": "python",
   "pygments_lexer": "ipython3",
   "version": "3.11.11"
  }
 },
 "nbformat": 4,
 "nbformat_minor": 5
}
